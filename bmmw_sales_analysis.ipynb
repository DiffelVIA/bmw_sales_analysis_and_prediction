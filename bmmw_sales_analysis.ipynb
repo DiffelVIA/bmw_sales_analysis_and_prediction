{
 "cells": [
  {
   "cell_type": "markdown",
   "id": "e7c30f4e",
   "metadata": {},
   "source": [
    "**Table of Contents**\n",
    "\n",
    "1. [Libraries importing](#imports)\n",
    "1. [Data Loading](#data-loading)\n",
    "1. [Data Cleaning and Preprocessing](#data-cleaning)\n",
    "1. [Exploratory Data Analysis](#EDA)\n",
    "1. [Predictive Analysis](#predictive)\n",
    "1. [Conclusions](#conclusions)"
   ]
  },
  {
   "cell_type": "markdown",
   "id": "9fe9d165",
   "metadata": {},
   "source": [
    "# 📖 Libraries Importing <a id='imports'></a>"
   ]
  },
  {
   "cell_type": "code",
   "execution_count": 4,
   "id": "c8810e9a",
   "metadata": {},
   "outputs": [],
   "source": [
    "import numpy as np\n",
    "import pandas as pd\n",
    "import matplotlib\n",
    "matplotlib.use('Agg')\n",
    "import matplotlib.pyplot as plt\n",
    "%matplotlib inline\n",
    "import seaborn as sns\n",
    "from sklearn.model_selection import train_test_split\n",
    "from sklearn.linear_model import LinearRegression\n",
    "from sklearn.metrics import mean_squared_error, r2_score, confusion_matrix\n",
    "import warnings\n",
    "warnings.filterwarnings('ignore')\n",
    "sns.set(style='whitegrid', palette='pastel')"
   ]
  },
  {
   "cell_type": "markdown",
   "id": "549c0c23",
   "metadata": {},
   "source": [
    "# 💻 Data Loading <a id='data-loading'></a>"
   ]
  },
  {
   "cell_type": "code",
   "execution_count": 7,
   "id": "c2f2dbfe",
   "metadata": {},
   "outputs": [
    {
     "data": {
      "text/html": [
       "<div>\n",
       "<style scoped>\n",
       "    .dataframe tbody tr th:only-of-type {\n",
       "        vertical-align: middle;\n",
       "    }\n",
       "\n",
       "    .dataframe tbody tr th {\n",
       "        vertical-align: top;\n",
       "    }\n",
       "\n",
       "    .dataframe thead th {\n",
       "        text-align: right;\n",
       "    }\n",
       "</style>\n",
       "<table border=\"1\" class=\"dataframe\">\n",
       "  <thead>\n",
       "    <tr style=\"text-align: right;\">\n",
       "      <th></th>\n",
       "      <th>Model</th>\n",
       "      <th>Year</th>\n",
       "      <th>Region</th>\n",
       "      <th>Color</th>\n",
       "      <th>Fuel_Type</th>\n",
       "      <th>Transmission</th>\n",
       "      <th>Engine_Size_L</th>\n",
       "      <th>Mileage_KM</th>\n",
       "      <th>Price_USD</th>\n",
       "      <th>Sales_Volume</th>\n",
       "      <th>Sales_Classification</th>\n",
       "    </tr>\n",
       "  </thead>\n",
       "  <tbody>\n",
       "    <tr>\n",
       "      <th>0</th>\n",
       "      <td>5 Series</td>\n",
       "      <td>2016</td>\n",
       "      <td>Asia</td>\n",
       "      <td>Red</td>\n",
       "      <td>Petrol</td>\n",
       "      <td>Manual</td>\n",
       "      <td>3.5</td>\n",
       "      <td>151748</td>\n",
       "      <td>98740</td>\n",
       "      <td>8300</td>\n",
       "      <td>High</td>\n",
       "    </tr>\n",
       "    <tr>\n",
       "      <th>1</th>\n",
       "      <td>i8</td>\n",
       "      <td>2013</td>\n",
       "      <td>North America</td>\n",
       "      <td>Red</td>\n",
       "      <td>Hybrid</td>\n",
       "      <td>Automatic</td>\n",
       "      <td>1.6</td>\n",
       "      <td>121671</td>\n",
       "      <td>79219</td>\n",
       "      <td>3428</td>\n",
       "      <td>Low</td>\n",
       "    </tr>\n",
       "    <tr>\n",
       "      <th>2</th>\n",
       "      <td>5 Series</td>\n",
       "      <td>2022</td>\n",
       "      <td>North America</td>\n",
       "      <td>Blue</td>\n",
       "      <td>Petrol</td>\n",
       "      <td>Automatic</td>\n",
       "      <td>4.5</td>\n",
       "      <td>10991</td>\n",
       "      <td>113265</td>\n",
       "      <td>6994</td>\n",
       "      <td>Low</td>\n",
       "    </tr>\n",
       "    <tr>\n",
       "      <th>3</th>\n",
       "      <td>X3</td>\n",
       "      <td>2024</td>\n",
       "      <td>Middle East</td>\n",
       "      <td>Blue</td>\n",
       "      <td>Petrol</td>\n",
       "      <td>Automatic</td>\n",
       "      <td>1.7</td>\n",
       "      <td>27255</td>\n",
       "      <td>60971</td>\n",
       "      <td>4047</td>\n",
       "      <td>Low</td>\n",
       "    </tr>\n",
       "    <tr>\n",
       "      <th>4</th>\n",
       "      <td>7 Series</td>\n",
       "      <td>2020</td>\n",
       "      <td>South America</td>\n",
       "      <td>Black</td>\n",
       "      <td>Diesel</td>\n",
       "      <td>Manual</td>\n",
       "      <td>2.1</td>\n",
       "      <td>122131</td>\n",
       "      <td>49898</td>\n",
       "      <td>3080</td>\n",
       "      <td>Low</td>\n",
       "    </tr>\n",
       "  </tbody>\n",
       "</table>\n",
       "</div>"
      ],
      "text/plain": [
       "      Model  Year         Region  ... Price_USD Sales_Volume Sales_Classification\n",
       "0  5 Series  2016           Asia  ...     98740         8300                 High\n",
       "1        i8  2013  North America  ...     79219         3428                  Low\n",
       "2  5 Series  2022  North America  ...    113265         6994                  Low\n",
       "3        X3  2024    Middle East  ...     60971         4047                  Low\n",
       "4  7 Series  2020  South America  ...     49898         3080                  Low\n",
       "\n",
       "[5 rows x 11 columns]"
      ]
     },
     "execution_count": 7,
     "metadata": {},
     "output_type": "execute_result"
    }
   ],
   "source": [
    "df = pd.read_csv(r'D:\\Data analyst\\datasets_kaggle\\06-10-25\\BMW sales data (2010-2024) (1).csv')\n",
    "df.head()"
   ]
  },
  {
   "cell_type": "code",
   "execution_count": 8,
   "id": "cc8b795b",
   "metadata": {},
   "outputs": [
    {
     "name": "stdout",
     "output_type": "stream",
     "text": [
      "<class 'pandas.core.frame.DataFrame'>\n",
      "RangeIndex: 50000 entries, 0 to 49999\n",
      "Data columns (total 11 columns):\n",
      " #   Column                Non-Null Count  Dtype  \n",
      "---  ------                --------------  -----  \n",
      " 0   Model                 50000 non-null  object \n",
      " 1   Year                  50000 non-null  int64  \n",
      " 2   Region                50000 non-null  object \n",
      " 3   Color                 50000 non-null  object \n",
      " 4   Fuel_Type             50000 non-null  object \n",
      " 5   Transmission          50000 non-null  object \n",
      " 6   Engine_Size_L         50000 non-null  float64\n",
      " 7   Mileage_KM            50000 non-null  int64  \n",
      " 8   Price_USD             50000 non-null  int64  \n",
      " 9   Sales_Volume          50000 non-null  int64  \n",
      " 10  Sales_Classification  50000 non-null  object \n",
      "dtypes: float64(1), int64(4), object(6)\n",
      "memory usage: 4.2+ MB\n"
     ]
    }
   ],
   "source": [
    "df.info()"
   ]
  },
  {
   "cell_type": "markdown",
   "id": "ee2bbb2d",
   "metadata": {},
   "source": [
    "# 🛠 Data Cleaning and Preprocessing <a id='data-cleaning'></a>"
   ]
  },
  {
   "cell_type": "markdown",
   "id": "9505a8c0",
   "metadata": {},
   "source": [
    "**Lowercase columns**"
   ]
  },
  {
   "cell_type": "code",
   "execution_count": 13,
   "id": "bb84afa8",
   "metadata": {},
   "outputs": [],
   "source": [
    "lowercase_cols = []\n",
    "for col in df.columns:\n",
    "    new_cols = col.lower()\n",
    "    lowercase_cols.append(new_cols)\n",
    "\n",
    "df.columns = lowercase_cols"
   ]
  },
  {
   "cell_type": "markdown",
   "id": "15866cb2",
   "metadata": {},
   "source": [
    "**Convert data types**"
   ]
  },
  {
   "cell_type": "code",
   "execution_count": 15,
   "id": "e2c3fd8c",
   "metadata": {},
   "outputs": [
    {
     "data": {
      "text/html": [
       "<div>\n",
       "<style scoped>\n",
       "    .dataframe tbody tr th:only-of-type {\n",
       "        vertical-align: middle;\n",
       "    }\n",
       "\n",
       "    .dataframe tbody tr th {\n",
       "        vertical-align: top;\n",
       "    }\n",
       "\n",
       "    .dataframe thead th {\n",
       "        text-align: right;\n",
       "    }\n",
       "</style>\n",
       "<table border=\"1\" class=\"dataframe\">\n",
       "  <thead>\n",
       "    <tr style=\"text-align: right;\">\n",
       "      <th></th>\n",
       "      <th>model</th>\n",
       "      <th>year</th>\n",
       "      <th>region</th>\n",
       "      <th>color</th>\n",
       "      <th>fuel_type</th>\n",
       "      <th>transmission</th>\n",
       "      <th>engine_size_l</th>\n",
       "      <th>mileage_km</th>\n",
       "      <th>price_usd</th>\n",
       "      <th>sales_volume</th>\n",
       "      <th>sales_classification</th>\n",
       "    </tr>\n",
       "  </thead>\n",
       "  <tbody>\n",
       "    <tr>\n",
       "      <th>0</th>\n",
       "      <td>5 Series</td>\n",
       "      <td>2016</td>\n",
       "      <td>Asia</td>\n",
       "      <td>Red</td>\n",
       "      <td>Petrol</td>\n",
       "      <td>Manual</td>\n",
       "      <td>3.5</td>\n",
       "      <td>151748</td>\n",
       "      <td>98740</td>\n",
       "      <td>8300</td>\n",
       "      <td>High</td>\n",
       "    </tr>\n",
       "    <tr>\n",
       "      <th>1</th>\n",
       "      <td>i8</td>\n",
       "      <td>2013</td>\n",
       "      <td>North America</td>\n",
       "      <td>Red</td>\n",
       "      <td>Hybrid</td>\n",
       "      <td>Automatic</td>\n",
       "      <td>1.6</td>\n",
       "      <td>121671</td>\n",
       "      <td>79219</td>\n",
       "      <td>3428</td>\n",
       "      <td>Low</td>\n",
       "    </tr>\n",
       "  </tbody>\n",
       "</table>\n",
       "</div>"
      ],
      "text/plain": [
       "      model  year         region  ... price_usd sales_volume sales_classification\n",
       "0  5 Series  2016           Asia  ...     98740         8300                 High\n",
       "1        i8  2013  North America  ...     79219         3428                  Low\n",
       "\n",
       "[2 rows x 11 columns]"
      ]
     },
     "execution_count": 15,
     "metadata": {},
     "output_type": "execute_result"
    }
   ],
   "source": [
    "df.head(2)"
   ]
  },
  {
   "cell_type": "code",
   "execution_count": 18,
   "id": "151cb016",
   "metadata": {},
   "outputs": [],
   "source": [
    "df['year'] = pd.to_numeric(df['year'], errors='coerce')\n",
    "df['engine_size_l'] = pd.to_numeric(df['engine_size_l'], errors='coerce')\n",
    "df['mileage_km'] = pd.to_numeric(df['mileage_km'], errors='coerce')\n",
    "df['price_usd'] = pd.to_numeric(df['price_usd'], errors='coerce')\n",
    "df['sales_volume'] = pd.to_numeric(df['sales_volume'], errors='coerce')"
   ]
  },
  {
   "cell_type": "markdown",
   "id": "44c67ab8",
   "metadata": {},
   "source": [
    "**Missing values**"
   ]
  },
  {
   "cell_type": "code",
   "execution_count": 14,
   "id": "1a160347",
   "metadata": {},
   "outputs": [
    {
     "data": {
      "text/plain": [
       "model                   0\n",
       "year                    0\n",
       "region                  0\n",
       "color                   0\n",
       "fuel_type               0\n",
       "transmission            0\n",
       "engine_size_l           0\n",
       "mileage_km              0\n",
       "price_usd               0\n",
       "sales_volume            0\n",
       "sales_classification    0\n",
       "dtype: int64"
      ]
     },
     "execution_count": 14,
     "metadata": {},
     "output_type": "execute_result"
    }
   ],
   "source": [
    "df.isnull().sum()"
   ]
  },
  {
   "cell_type": "code",
   "execution_count": 21,
   "id": "8dc80edd",
   "metadata": {},
   "outputs": [],
   "source": [
    "numeric_cols = df.select_dtypes(include=[np.number]).columns\n",
    "for col in numeric_cols:\n",
    "    if df[col].isnull().sum() > 0:\n",
    "        df[col].fillna(df[col].median(), inplace=True)\n",
    "\n",
    "categorical_cols = df.select_dtypes(include=['object']).columns\n",
    "for col in categorical_cols:\n",
    "    if df[col].isnull().sum() > 0:\n",
    "        df[col].fillna(method='ffill', inplace=True)        "
   ]
  },
  {
   "cell_type": "markdown",
   "id": "48b59e9c",
   "metadata": {},
   "source": [
    "# 🕵️‍♂️ Exploratory Data Analysis <a id='EDA'></a>"
   ]
  },
  {
   "cell_type": "markdown",
   "id": "c67c93c0",
   "metadata": {},
   "source": [
    "# 🧠 Predictive Analysis <a id='predictive'></a>"
   ]
  },
  {
   "cell_type": "markdown",
   "id": "b4dcf7fa",
   "metadata": {},
   "source": [
    "# 🙇‍♂️ Conclusions <a id='conclusions'></a>"
   ]
  }
 ],
 "metadata": {
  "kernelspec": {
   "display_name": "bmw_2010_2024 (3.13.2)",
   "language": "python",
   "name": "python3"
  },
  "language_info": {
   "codemirror_mode": {
    "name": "ipython",
    "version": 3
   },
   "file_extension": ".py",
   "mimetype": "text/x-python",
   "name": "python",
   "nbconvert_exporter": "python",
   "pygments_lexer": "ipython3",
   "version": "3.13.2"
  }
 },
 "nbformat": 4,
 "nbformat_minor": 5
}
